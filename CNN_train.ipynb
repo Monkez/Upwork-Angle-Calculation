{
 "cells": [
  {
   "cell_type": "code",
   "execution_count": null,
   "metadata": {},
   "outputs": [],
   "source": [
    "import tensorflow as tf\n",
    "from tensorflow import keras\n",
    "from tensorflow.keras import layers\n",
    "import cv2\n",
    "import numpy as np\n",
    "from glob import glob as gl\n",
    "import config as cf\n",
    "import imutils\n",
    "\n",
    "\n",
    "W = 224\n",
    "H = 224"
   ]
  },
  {
   "cell_type": "code",
   "execution_count": null,
   "metadata": {},
   "outputs": [],
   "source": [
    "def make_model():\n",
    "    inputs = keras.Input(shape=(H, W, 3))\n",
    "\n",
    "    # Entry block\n",
    "    x = layers.Rescaling(1.0 / 255)(inputs)\n",
    "    x = layers.Conv2D(32, 3, strides=2, padding=\"same\")(inputs)\n",
    "    # x = layers.BatchNormalization()(x)\n",
    "    x = layers.Activation(\"relu\")(x)\n",
    "\n",
    "    previous_block_activation = x  # Set aside residual\n",
    "\n",
    "    for size in [64, 128, 256]:\n",
    "        x = layers.Activation(\"relu\")(x)\n",
    "        x = layers.SeparableConv2D(size, 3, padding=\"same\")(x)\n",
    "        # x = layers.BatchNormalization()(x)\n",
    "\n",
    "        x = layers.Activation(\"relu\")(x)\n",
    "        x = layers.SeparableConv2D(size, 3, padding=\"same\")(x)\n",
    "        # x = layers.BatchNormalization()(x)\n",
    "\n",
    "        x = layers.MaxPooling2D(3, strides=2, padding=\"same\")(x)\n",
    "\n",
    "        # Project residual\n",
    "        residual = layers.Conv2D(size, 1, strides=2, padding=\"same\")(\n",
    "            previous_block_activation\n",
    "        )\n",
    "        x = layers.add([x, residual])  # Add back residual\n",
    "        previous_block_activation = x  # Set aside next residual\n",
    "\n",
    "    x = layers.SeparableConv2D(512, 3, padding=\"same\")(x)\n",
    "    # x = layers.BatchNormalization()(x)\n",
    "    x = layers.Activation(\"relu\")(x)\n",
    "    x = layers.GlobalAveragePooling2D()(x)\n",
    "    x = layers.Dense(64, activation='relu')(x)\n",
    "    x = layers.Dense(1,  activation='linear')(x)\n",
    "    return keras.Model(inputs, x)\n",
    "\n"
   ]
  },
  {
   "cell_type": "code",
   "execution_count": null,
   "metadata": {},
   "outputs": [],
   "source": [
    "def padding_to_square(img, W, H):\n",
    "    h, w = img.shape[:2]\n",
    "    out = np.zeros((H, W, 3), np.uint8)\n",
    "    r = min(W/w, H/h)\n",
    "    img = cv2.resize(img, (int(r*w), int(r*h)))\n",
    "    h, w = img.shape[:2]\n",
    "    out[(H-h)//2:(H-h)//2+h, (W-w)//2:(W-w)//2+w] = img\n",
    "    return out\n",
    "\n",
    "def make_data(path):\n",
    "    images = []\n",
    "    labels = []\n",
    "    files = gl(path+\"/*.jpg\")\n",
    "    for file in files:\n",
    "        try:\n",
    "            label_file = file[:-3]+\"txt\"\n",
    "            f = open(label_file, 'r')\n",
    "            a = f.readline()\n",
    "            angle = float(a)\n",
    "            img = cv2.imread(file, 1)\n",
    "            img = padding_to_square(img, W, H)\n",
    "            # img = np.expand_dims(img, axis=2)\n",
    "            images.append(img)\n",
    "            labels.append(angle)\n",
    "        except Exception as e:\n",
    "            pass\n",
    "    return np.array(images), np.array(labels)\n"
   ]
  },
  {
   "cell_type": "code",
   "execution_count": null,
   "metadata": {},
   "outputs": [],
   "source": [
    "images, lables = make_data(\"aug\")\n",
    "print(images.shape, lables.shape)\n",
    "\n",
    "from sklearn.model_selection import train_test_split\n",
    "X_train, X_test, y_train, y_test = train_test_split(images, lables, test_size=0.2, random_state=42)\n",
    "print(X_train.shape, y_train.shape)\n",
    "print(X_test.shape, y_test.shape)\n",
    "k = 0.8"
   ]
  },
  {
   "cell_type": "code",
   "execution_count": null,
   "metadata": {},
   "outputs": [],
   "source": [
    "epochs = 20\n",
    "batch_size = 16\n",
    "\n",
    "model = make_model()\n",
    "model.compile(\n",
    "    optimizer=keras.optimizers.Adam(1e-3),\n",
    "    loss=\"mse\"\n",
    ")\n",
    "# model.summary()\n",
    "model.fit(\n",
    "    X_train, y_train,\n",
    "    epochs=epochs,\n",
    "    batch_size = batch_size,\n",
    "    validation_data = (X_test, y_test)\n",
    ")"
   ]
  },
  {
   "cell_type": "code",
   "execution_count": null,
   "metadata": {},
   "outputs": [],
   "source": [
    "model.evaluate(X_test, y_test)"
   ]
  },
  {
   "cell_type": "code",
   "execution_count": null,
   "metadata": {},
   "outputs": [],
   "source": [
    "predict = model.predict(X_test)\n",
    "for i in range(X_test.shape[0]):\n",
    "    print(predict[i], y_test[i])"
   ]
  },
  {
   "cell_type": "code",
   "execution_count": null,
   "metadata": {},
   "outputs": [],
   "source": [
    "model.save(\"model.h5\")"
   ]
  },
  {
   "cell_type": "code",
   "execution_count": null,
   "metadata": {},
   "outputs": [],
   "source": []
  }
 ],
 "metadata": {
  "kernelspec": {
   "display_name": "Python 3.10.8 ('imageComp')",
   "language": "python",
   "name": "python3"
  },
  "language_info": {
   "codemirror_mode": {
    "name": "ipython",
    "version": 3
   },
   "file_extension": ".py",
   "mimetype": "text/x-python",
   "name": "python",
   "nbconvert_exporter": "python",
   "pygments_lexer": "ipython3",
   "version": "3.10.8"
  },
  "orig_nbformat": 4,
  "vscode": {
   "interpreter": {
    "hash": "e416b455e309ee7b2c1c8cbb5f10e53018214023412296e599c644bb42284da1"
   }
  }
 },
 "nbformat": 4,
 "nbformat_minor": 2
}
